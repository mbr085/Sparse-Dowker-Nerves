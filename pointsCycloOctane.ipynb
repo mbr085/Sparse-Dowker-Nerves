{
 "cells": [
  {
   "cell_type": "code",
   "execution_count": 1,
   "metadata": {
    "collapsed": true
   },
   "outputs": [],
   "source": [
    "import numpy as np\n",
    "import pandas as pd\n",
    "from scipy.io import loadmat\n",
    "from dowker_homology import dowker_persistent_homology, plot_persistence\n",
    "%matplotlib notebook"
   ]
  },
  {
   "cell_type": "code",
   "execution_count": 2,
   "metadata": {},
   "outputs": [
    {
     "name": "stdout",
     "output_type": "stream",
     "text": [
      "(6040, 24)\n"
     ]
    }
   ],
   "source": [
    "# read data\n",
    "mat = loadmat(\"data/pointsCycloOctane.mat\")\n",
    "coords = mat[\"pointsCycloOctane\"]\n",
    "print(coords.shape)"
   ]
  },
  {
   "cell_type": "code",
   "execution_count": 3,
   "metadata": {
    "collapsed": true
   },
   "outputs": [],
   "source": [
    "# choose parameters\n",
    "n = 2000\n",
    "interleaving = 6\n",
    "dimension = 2"
   ]
  },
  {
   "cell_type": "code",
   "execution_count": 4,
   "metadata": {},
   "outputs": [
    {
     "name": "stdout",
     "output_type": "stream",
     "text": [
      "Unreduced nerve has cardinality 666001834500.0\n",
      "Clique reduced nerve of cover has cardinality 18068342\n",
      "Sparse nerve of cover has cardinality 762928\n",
      "CPU times: user 5h 45min 57s, sys: 21.4 s, total: 5h 46min 18s\n",
      "Wall time: 5h 46min 16s\n"
     ]
    }
   ],
   "source": [
    "%%time \n",
    "homology_dowker, cover_radius_dowker, max_filtration_value_dowker = dowker_persistent_homology(\n",
    "    coords, \n",
    "    n_samples=n, \n",
    "    interleaving=interleaving,\n",
    "    dimension=dimension, \n",
    "    method=\"dowker\",\n",
    "    verbose=True)"
   ]
  },
  {
   "cell_type": "code",
   "execution_count": 5,
   "metadata": {
    "scrolled": false
   },
   "outputs": [
    {
     "data": {
      "image/png": "[encoded data removed]",
      "text/plain": [
       "<matplotlib.figure.Figure at 0x7f62db896f28>"
      ]
     },
     "metadata": {},
     "output_type": "display_data"
    }
   ],
   "source": [
    "plot_dowker = plot_persistence(homology_dowker,\n",
    "                               ticks=None, \n",
    "                               interleaving=interleaving,\n",
    "                               cover_radius=cover_radius_dowker,\n",
    "                               max_filtration_value=max_filtration_value_dowker,\n",
    "                               title='pointsCycloOctane, n=2000, c=6',\n",
    "                               s=10)"
   ]
  },
  {
   "cell_type": "code",
   "execution_count": 6,
   "metadata": {
    "collapsed": true
   },
   "outputs": [],
   "source": [
    "persistence = homology_dowker[:, 2] - homology_dowker[:, 1]\n",
    "sorted_homology = homology_dowker[np.argsort(persistence)][::-1]"
   ]
  },
  {
   "cell_type": "code",
   "execution_count": 7,
   "metadata": {},
   "outputs": [
    {
     "data": {
      "text/plain": [
       "array([[ 1.        ,  0.1237959 ,  0.69374092],\n",
       "       [ 2.        ,  0.39998394,  0.82197121],\n",
       "       [ 2.        ,  0.40829828,  0.81076392],\n",
       "       [ 0.        ,  0.        ,  0.15568396],\n",
       "       [ 0.        ,  0.        ,  0.15360745]])"
      ]
     },
     "execution_count": 7,
     "metadata": {},
     "output_type": "execute_result"
    }
   ],
   "source": [
    "sorted_homology[:5]"
   ]
  }
 ],
 "metadata": {
  "kernelspec": {
   "display_name": "Python [conda env:dowker]",
   "language": "python",
   "name": "conda-env-dowker-py"
  },
  "language_info": {
   "codemirror_mode": {
    "name": "ipython",
    "version": 3
   },
   "file_extension": ".py",
   "mimetype": "text/x-python",
   "name": "python",
   "nbconvert_exporter": "python",
   "pygments_lexer": "ipython3",
   "version": "3.6.4"
  }
 },
 "nbformat": 4,
 "nbformat_minor": 2
}
