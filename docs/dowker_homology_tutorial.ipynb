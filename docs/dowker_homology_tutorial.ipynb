{
 "cells": [
  {
   "cell_type": "markdown",
   "metadata": {
    "collapsed": true
   },
   "source": [
    "# Sparse dowker homology\n",
    "\n",
    "In this tutorial we describe the use of the python package [dowker_homology](https://github.com/mbr085/Sparse-Dowker-Nerves) to calculate the persistent homology of point clouds. Running the entire workbook will take approximately ten minutes on a modern laptop."
   ]
  },
  {
   "cell_type": "markdown",
   "metadata": {},
   "source": [
    "## Čech persistent homology\n",
    "We start by calculating Čech persistent homology of a point cloud in ℝ<sup>4</sup>. First we import the relevant python packages, set a random seed and generate the sample data used for the examples below. The first data we use are 100 points on the Clifford torus. "
   ]
  },
  {
   "cell_type": "code",
   "execution_count": null,
   "metadata": {
    "collapsed": true
   },
   "outputs": [],
   "source": [
    "import time\n",
    "start = time.time()"
   ]
  },
  {
   "cell_type": "code",
   "execution_count": null,
   "metadata": {},
   "outputs": [],
   "source": [
    "%%time\n",
    "# import packages\n",
    "import numpy as np\n",
    "import urllib.request\n",
    "from io import BytesIO\n",
    "import pandas as pd\n",
    "from scipy.spatial.distance import cdist\n",
    "import dowker_homology as dh\n",
    "np.random.seed(1)"
   ]
  },
  {
   "cell_type": "code",
   "execution_count": null,
   "metadata": {
    "collapsed": true
   },
   "outputs": [],
   "source": [
    "# generate data\n",
    "def clifford_torus(N):\n",
    "    x = np.linspace(0, 2*np.pi, num=N, endpoint=False).reshape(N,1)\n",
    "    y = np.sqrt(N)*x\n",
    "    return np.hstack((np.cos(x), np.sin(x), np.cos(y), np.sin(y)))\n",
    "\n",
    "coords = clifford_torus(100)"
   ]
  },
  {
   "cell_type": "markdown",
   "metadata": {},
   "source": [
    "In order to calculate the persistent homology of a point cloud with an ambient Čech complex, we create a `Dowker_Ambient` object. By default the `plot_persistence` method takes as input an Euclidean point cloud X and returns the persistence diagram of the associated ambient Čech complex."
   ]
  },
  {
   "cell_type": "code",
   "execution_count": null,
   "metadata": {},
   "outputs": [],
   "source": [
    "%%time\n",
    "# initiate dowker homology object\n",
    "dowker = dh.Dowker_Ambient()\n",
    "# calculate and plot persistent homology\n",
    "dowker.plot_persistence(X=coords)"
   ]
  },
  {
   "cell_type": "markdown",
   "metadata": {},
   "source": [
    "Information about the sizes of the nerves can be obtained by the `cardinality_information` method."
   ]
  },
  {
   "cell_type": "code",
   "execution_count": null,
   "metadata": {},
   "outputs": [],
   "source": [
    "# look at nerve sizes\n",
    "dowker.cardinality_information()"
   ]
  },
  {
   "cell_type": "markdown",
   "metadata": {},
   "source": [
    "Note that we have plotted the persistence classes with transparent big dots. This allows us to see that there are two persistence classes with birth approximately 0.046 and death approximately 1. It is possible to zoom in and to make the dots more transparent: "
   ]
  },
  {
   "cell_type": "code",
   "execution_count": null,
   "metadata": {},
   "outputs": [],
   "source": [
    "# plot persistent homology\n",
    "dowker.plot_persistence(zoom=True, alpha=0.2)"
   ]
  },
  {
   "cell_type": "markdown",
   "metadata": {},
   "source": [
    "Note that we did not specify the data X the second time we plotted the persistence diagram. This lets the software reuse results of the previous calculations. If X is specified again, all calculations are repeated. "
   ]
  },
  {
   "cell_type": "markdown",
   "metadata": {},
   "source": [
    "In addition to the `Dowker_Ambient` constructor, we provide `Dowker` and `Dowker_Intrinsic` constructors for calculating persistent homology of nerves of dowker dissimilarities and intrinsic nerves of metric spaces. \n",
    "\n",
    "The following are the parameters that can be passed to all constructors together with their default values. We will walk through all of these in this tutorial.\n",
    "\n",
    "```python\n",
    "dimension=1\n",
    "translation_function=None\n",
    "initial_point=0\n",
    "resolution=0\n",
    "n_samples=None\n",
    "multiplicative_interleaving=1\n",
    "additive_interleaving=0\n",
    "homology_method='dual'\n",
    "max_simplex_size=2e5\n",
    "```\n",
    "\n",
    "In addition the `Dowker_Intrinsic` has a dissimilarity argument, which defaults to 'euclidean'. \n",
    "```python\n",
    "dissimilarity='euclidean'\n",
    "```\n",
    "\n",
    "To begin with, `homology_method` can be either 'standard' or 'dual', where 'dual' means computing cohomology. See [PHAT](https://bitbucket.org/phat-code/phat) for more information. \n",
    "\n",
    "The `max_simplex_size` parameter helps by giving an error if the resulting nerve is very large and calculations will take a long time. Then the options are to either set `max_simplex_size` higher and expect some waiting time or to change the interleaving parameters so that calculations finish after reasonably short times. \n",
    "\n",
    "Two important optional parameters for Dowker objects are the maximal homology dimension `dimension` and the number `n_samples` of vertices in the nerve. We use a farthest point sampling to reduce the number of vertices. "
   ]
  },
  {
   "cell_type": "code",
   "execution_count": null,
   "metadata": {},
   "outputs": [],
   "source": [
    "%%time\n",
    "# initiate dowker homology object\n",
    "dowker = dh.Dowker_Ambient(dimension=2, n_samples=40)\n",
    "# calculate and plot persistent homology\n",
    "dowker.plot_persistence(X=coords)"
   ]
  },
  {
   "cell_type": "markdown",
   "metadata": {},
   "source": [
    "After plotting the persistence diagram the object dowker contains \n",
    "a fair amount of variables. \n",
    "Most prominently the `homology` variable is a numpy array with three columns.<br>\n",
    "The first column gives homological dimension.<br>\n",
    "The second column gives birth.<br>\n",
    "The third column gives death."
   ]
  },
  {
   "cell_type": "code",
   "execution_count": null,
   "metadata": {},
   "outputs": [],
   "source": [
    "# first rows of persistence diagram\n",
    "pd.DataFrame(dowker.homology, \n",
    "             columns=['dim', 'birth', 'death']).head()"
   ]
  },
  {
   "cell_type": "markdown",
   "metadata": {},
   "source": [
    "If we like we can add a persistence column."
   ]
  },
  {
   "cell_type": "code",
   "execution_count": null,
   "metadata": {},
   "outputs": [],
   "source": [
    "# add persistence column\n",
    "homology = pd.DataFrame(dowker.homology, \n",
    "                        columns=['dim', 'birth', 'death'])\n",
    "homology['pers'] = homology['death'] - homology['birth']\n",
    "homology.head()"
   ]
  },
  {
   "cell_type": "markdown",
   "metadata": {},
   "source": [
    "## Intrinsic Čech complex\n",
    "\n",
    "Instead of the ambient Čech complex\n",
    "we can compute the intrinsic Čech complex.\n",
    "The ambient Čech complex is the nerve of a Dowker dissimilarity of the form  X × ℝ<sup>d</sup> → [0, ∞] and the intrinsic Čech complex is the nerve of a Dowker dissimilarity of the form X × X → [0, ∞]. For the intrinsic Čech complex we can specify all metrics accepted by `scipy.spatial.distance.cdist` in addition to `'precomputed'`. "
   ]
  },
  {
   "cell_type": "code",
   "execution_count": null,
   "metadata": {
    "scrolled": false
   },
   "outputs": [],
   "source": [
    "%%time\n",
    "# initiate dowker homology object\n",
    "dowker = dh.Dowker_Intrinsic(dimension=1,\n",
    "                             dissimilarity='euclidean')\n",
    "# calculate and plot persistent homology\n",
    "dowker.plot_persistence(X=coords)\n",
    "# show cardinality\n",
    "dowker.cardinality_information()"
   ]
  },
  {
   "cell_type": "markdown",
   "metadata": {},
   "source": [
    "Below we compute the Čech homology of the point-cloud given by the vertices of a regular simplex of dimension 999."
   ]
  },
  {
   "cell_type": "code",
   "execution_count": null,
   "metadata": {},
   "outputs": [],
   "source": [
    "%%time\n",
    "# initiate dowker homology object\n",
    "dowker = dh.Dowker_Intrinsic()\n",
    "# persistence diagram of a simplex\n",
    "dowker.plot_persistence(X=np.diag(np.ones(1000)))\n",
    "# cardinality information\n",
    "dowker.cardinality_information()"
   ]
  },
  {
   "cell_type": "markdown",
   "metadata": {},
   "source": [
    "## Sparse Dowker Nerves\n",
    "\n",
    "The sparse version of persistent homology from Example 5.6 in [Sparse Filtered Nerves](https://arxiv.org/abs/1810.02149) is interleaved with Čech persistent homology. The easiest way to use it is to specify the additive and multiplicative interleaving constants. "
   ]
  },
  {
   "cell_type": "code",
   "execution_count": null,
   "metadata": {},
   "outputs": [],
   "source": [
    "%%time\n",
    "# initiate dowker homology object\n",
    "dowker = dh.Dowker_Ambient(dimension=1, \n",
    "                           multiplicative_interleaving=1.5, \n",
    "                           additive_interleaving=0.1)\n",
    "# calculate and plot persistent homology\n",
    "dowker.plot_persistence(X=coords)\n",
    "# cardinality information\n",
    "dowker.cardinality_information()"
   ]
  },
  {
   "cell_type": "markdown",
   "metadata": {},
   "source": [
    "Note that there is a second black line in addition to the diagonal. The interleaving guarantees that all points above this interleaving line will be present in the original persistence diagram as well. \n",
    "\n",
    "We can also sparsify the intrinsic Čech complex. "
   ]
  },
  {
   "cell_type": "code",
   "execution_count": null,
   "metadata": {},
   "outputs": [],
   "source": [
    "%%time\n",
    "# initiate dowker homology object\n",
    "dowker = dh.Dowker_Intrinsic(dimension=1, \n",
    "                             multiplicative_interleaving=1.5, \n",
    "                             additive_interleaving=0.2)\n",
    "# calculate and plot persistent homology\n",
    "dowker.plot_persistence(X=coords)\n",
    "# cardinality information\n",
    "dowker.cardinality_information()"
   ]
  },
  {
   "cell_type": "markdown",
   "metadata": {},
   "source": [
    "For data of high dimension we are able to reduce the size of the nerve drastically by using a multiplicative interliaving. We illustrate this on a dataset consisting of random data in 16 dimensional euclidean space. "
   ]
  },
  {
   "cell_type": "code",
   "execution_count": null,
   "metadata": {
    "collapsed": true
   },
   "outputs": [],
   "source": [
    "# Download data and transform to numpy array\n",
    "url = ('https://raw.githubusercontent.com/' +\n",
    "       'n-otter/PH-roadmap/master/data_sets/' +\n",
    "       'roadmap_datasets_point_cloud/random_' +\n",
    "       'point_cloud_50_16_.txt')\n",
    "\n",
    "response = urllib.request.urlopen(url)\n",
    "data = response.read()      # a `bytes` object\n",
    "text = data.decode('utf-8')\n",
    "coords = np.genfromtxt(BytesIO(data), delimiter=\" \")"
   ]
  },
  {
   "cell_type": "code",
   "execution_count": null,
   "metadata": {},
   "outputs": [],
   "source": [
    "%%time\n",
    "# initiate dowker homology object\n",
    "dowker = dh.Dowker_Ambient(dimension=7,\n",
    "                           multiplicative_interleaving=2.5)\n",
    "# calculate and plot persistent homology\n",
    "dowker.plot_persistence(X=coords)\n",
    "dowker.cardinality_information()"
   ]
  },
  {
   "cell_type": "markdown",
   "metadata": {},
   "source": [
    "## Subspace sparsification\n",
    "\n",
    "In the introduction of [Sparse Filtered Nerves](https://arxiv.org/abs/1810.02149) we mention the additive interleaving of subspaces with the Hausdorff distance. This additive part can be specified using either the `resolution` or the `n_samples` parameters. \n",
    "If there is no other interleaving, the `resolution` parameter is the intersect of the interleaving line with the y-axis. The parameter `n_samples` specifies how many points to sample in a farthest point sampling. \n",
    "It is convenient, because computing time is low for few points. It can also be used to find an appropriate value for the `resolution` parameter.\n",
    "For a general alpha-interleaving the total interleaving is alpha(t + resolution).\n",
    "\n",
    "Here we use the complete data and specify `n_samples` to be 50."
   ]
  },
  {
   "cell_type": "code",
   "execution_count": null,
   "metadata": {
    "collapsed": true
   },
   "outputs": [],
   "source": [
    "coords = clifford_torus(100)"
   ]
  },
  {
   "cell_type": "code",
   "execution_count": null,
   "metadata": {},
   "outputs": [],
   "source": [
    "%%time\n",
    "# initiate dowker homology object\n",
    "dowker = dh.Dowker_Intrinsic(dimension=1,\n",
    "                             n_samples=50,\n",
    "                             multiplicative_interleaving=1.2)\n",
    "# calculate and plot persistent homology\n",
    "dowker.plot_persistence(X=coords)\n",
    "# cardinality information\n",
    "dowker.cardinality_information()"
   ]
  },
  {
   "cell_type": "markdown",
   "metadata": {},
   "source": [
    "Note again that there is a second black line in addition to the diagonal. We know that all points above this interleaving line will be present in the original persistence diagram as well.\n",
    "\n",
    "From the above persistence diagram we read off that 0.62 is an appropriate value for the `resoultion` parameter. We repeat the computation with `resolution` set to 0.62."
   ]
  },
  {
   "cell_type": "code",
   "execution_count": null,
   "metadata": {},
   "outputs": [],
   "source": [
    "%%time\n",
    "# initiate dowker homology object\n",
    "dowker = dh.Dowker_Intrinsic(dimension=1,\n",
    "                             resolution=0.62,\n",
    "                             multiplicative_interleaving=1.2)\n",
    "# calculate and plot persistent homology\n",
    "dowker.plot_persistence(X=coords)\n",
    "# cardinality information\n",
    "dowker.cardinality_information()"
   ]
  },
  {
   "cell_type": "markdown",
   "metadata": {},
   "source": [
    "Note that the interleaving line intersects the y-axis at 1.2 * 0.62 = 0.744"
   ]
  },
  {
   "cell_type": "markdown",
   "metadata": {},
   "source": [
    "## General interleavings\n",
    "\n",
    "We can also specify interleavings with arbitrary translation functions α(t). Note that there are no automated checks of the correctness of these functions and it is the users responsability to make sure that they are indeed translation functions. The following example is the same as the example with multiplicative interleaving of 2.5 and an additive interleaving of 0.5."
   ]
  },
  {
   "cell_type": "code",
   "execution_count": null,
   "metadata": {
    "collapsed": true
   },
   "outputs": [],
   "source": [
    "# generate new data\n",
    "coords = clifford_torus(5000)"
   ]
  },
  {
   "cell_type": "code",
   "execution_count": null,
   "metadata": {},
   "outputs": [],
   "source": [
    "%%time\n",
    "# specify translation function\n",
    "def beta_fct(time):\n",
    "    return 2.5 * time + 0.5\n",
    "# initiate dowker homology object\n",
    "dowker = dh.Dowker_Intrinsic(dimension=1,\n",
    "                             translation_function=beta_fct,\n",
    "                             dissimilarity='euclidean')\n",
    "# calculate and plot persistent homology\n",
    "dowker.plot_persistence(X=coords)"
   ]
  },
  {
   "cell_type": "markdown",
   "metadata": {},
   "source": [
    "More complex translation functions can also be specified. "
   ]
  },
  {
   "cell_type": "code",
   "execution_count": null,
   "metadata": {},
   "outputs": [],
   "source": [
    "%%time\n",
    "# specify translation function\n",
    "def beta_fct(time):\n",
    "    return pow(time, 3) + 0.3\n",
    "# initiate dowker homology object\n",
    "dowker = dh.Dowker_Intrinsic(dimension=1,\n",
    "                             translation_function=beta_fct,\n",
    "                             resolution=0.3,\n",
    "                             dissimilarity='euclidean')\n",
    "# calculate and plot persistent homology\n",
    "dowker.plot_persistence(X=coords)"
   ]
  },
  {
   "cell_type": "markdown",
   "metadata": {},
   "source": [
    "Note that here the interleaving guarantee is provided by a curve more general than a straight line."
   ]
  },
  {
   "cell_type": "markdown",
   "metadata": {},
   "source": [
    "## Arbitrary Dowker dissimilarity\n",
    "\n",
    "In the previous examples we have used intrinsic or ambient Čech complex. Here we compute the persistent homology for arbitrary Dowker dissimilarities."
   ]
  },
  {
   "cell_type": "markdown",
   "metadata": {},
   "source": [
    "Inspired from the [persnet software](https://github.com/fmemoli/PersNet) we compute Dowker homology of cyclic networks."
   ]
  },
  {
   "cell_type": "code",
   "execution_count": null,
   "metadata": {},
   "outputs": [],
   "source": [
    "%%time\n",
    "# generate cyclic network\n",
    "def cyclic_network(n_nodes):\n",
    "    m = np.zeros((n_nodes, n_nodes))\n",
    "    for i in range(n_nodes):\n",
    "        for j in range(n_nodes):\n",
    "            m[i, j] = (j - i) % n_nodes\n",
    "    return m\n",
    "dowker_dissimilarity = cyclic_network(100)\n",
    "# initiate dowker homology object\n",
    "dowker = dh.Dowker(dimension=1)\n",
    "# calculate and plot persistent homology\n",
    "dowker.plot_persistence(X=dowker_dissimilarity)"
   ]
  },
  {
   "cell_type": "markdown",
   "metadata": {},
   "source": [
    "Below we compute persistent homology of the dowker nerve of the function X × G → [0, ∞] specifying the distance between a point x in the Clifford torus X and a point g in a grid G containing X."
   ]
  },
  {
   "cell_type": "code",
   "execution_count": null,
   "metadata": {},
   "outputs": [],
   "source": [
    "%%time\n",
    "# initiate dowker homology object\n",
    "dowker = dh.Dowker(dimension=1)\n",
    "# grid of witness points\n",
    "grid = np.array([(x1, x2, x3, x4) for \n",
    "                 x1 in np.linspace(-1, 1, 10) for \n",
    "                 x2 in np.linspace(-1, 1, 10) for\n",
    "                 x3 in np.linspace(-1, 1, 10) for\n",
    "                 x4 in np.linspace(-1, 1, 10)])\n",
    "# calculate and plot persistent homology\n",
    "dowker.plot_persistence(X=cdist(clifford_torus(100), grid))"
   ]
  },
  {
   "cell_type": "markdown",
   "metadata": {},
   "source": [
    "We next compute the intrinsic Čech complex directly from the distance matrix. "
   ]
  },
  {
   "cell_type": "code",
   "execution_count": null,
   "metadata": {
    "scrolled": true
   },
   "outputs": [],
   "source": [
    "%%time\n",
    "# initiate dowker homology object\n",
    "dowker = dh.Dowker(dimension=1)\n",
    "# calculate and plot persistent homology\n",
    "dowker.plot_persistence(X=cdist(clifford_torus(100), clifford_torus(100)))"
   ]
  },
  {
   "cell_type": "markdown",
   "metadata": {},
   "source": [
    "This whole notebook hopefully takes less than 20 minutes to run on a modern laptop. "
   ]
  },
  {
   "cell_type": "code",
   "execution_count": null,
   "metadata": {},
   "outputs": [],
   "source": [
    "total_time = time.time() - start\n",
    "total_time / 60"
   ]
  }
 ],
 "metadata": {
  "kernelspec": {
   "display_name": "Python 3",
   "language": "python",
   "name": "python3"
  },
  "language_info": {
   "codemirror_mode": {
    "name": "ipython",
    "version": 3
   },
   "file_extension": ".py",
   "mimetype": "text/x-python",
   "name": "python",
   "nbconvert_exporter": "python",
   "pygments_lexer": "ipython3",
   "version": "3.6.3"
  }
 },
 "nbformat": 4,
 "nbformat_minor": 2
}
