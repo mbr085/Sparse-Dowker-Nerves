{
 "cells": [
  {
   "cell_type": "markdown",
   "metadata": {
    "collapsed": true
   },
   "source": [
    "# Comparison of sparsification strategies\n",
    "\n",
    "In this tutorial we describe the use of the python package [dowker_comparison](https://github.com/blasern/dowker_homology) to calculate the persistent homology of point clouds. This is meant as a reference to compare the different strategies and examples in [Sparse Dowker Nerves (SDN)](https://arxiv.org/abs/1802.03655) and [Sparse Filtered Nerves (SFN)](https://arxiv.org/abs/1810.02149). The recommended sparsification strategy is implemented in [dowker_homology](https://github.com/mbr085/Sparse-Dowker-Nerves). "
   ]
  },
  {
   "cell_type": "markdown",
   "metadata": {},
   "source": [
    "In this package we provide classes for calculating persistent homology using different truncation and sparsification methods. We have intrinsic and ambient classes for most methods. All classes are follow the naming scheme `Dowker_Intrinsic_Truncation_Sparsification` or `Dowker_Ambient_Truncation_Sparsification` and take the same arguments as their counterparts in [dowker_homology](dowker_homology_tutorial.html).\n",
    "\n",
    "### Truncation methods\n",
    "We have implemented truncation methods described by Cavanna, Jahanseir and Sheehy in [A Geometric Perspective on Sparse Filtrations](https://arxiv.org/abs/1506.03797) and Definition 6 in [Sparse Dowker Nerves](https://arxiv.org/abs/1802.03655), which will be termed 'Sheehy'. \n",
    "\n",
    "### Restriction methods\n",
    "The two restriction methods implemented here come from [Sparse Dowker Nerves](https://arxiv.org/abs/1802.03655) and are termed 'Sheehy' for the method described in Proposition 1 and 'Parent' for the method described in Definition 8.\n",
    "\n",
    "### Examples\n",
    "In this tutorial we present two quick examples. For a more complete overview see our [examples](https://github.com/mbr085/Sparse-Dowker-Nerves/tree/master/examples). Note that these may take a long time to run. "
   ]
  },
  {
   "cell_type": "markdown",
   "metadata": {},
   "source": [
    "## Clifford torus\n",
    "We start with calculating Čech persistent homology of a point cloud in ℝ<sup>4</sup>. First we import the relevant python packages, set a random seed and generate the sample data used for the examples below. The data we use are 100 points on the Clifford torus. "
   ]
  },
  {
   "cell_type": "code",
   "execution_count": null,
   "metadata": {
    "collapsed": true
   },
   "outputs": [],
   "source": [
    "import time\n",
    "start = time.time()"
   ]
  },
  {
   "cell_type": "code",
   "execution_count": null,
   "metadata": {},
   "outputs": [],
   "source": [
    "%%time\n",
    "# import packages\n",
    "import numpy as np\n",
    "import pandas as pd\n",
    "from scipy.spatial.distance import cdist\n",
    "import urllib.request\n",
    "from io import BytesIO\n",
    "import dowker_homology as dh\n",
    "import dowker_comparison as dc\n",
    "np.random.seed(1)"
   ]
  },
  {
   "cell_type": "code",
   "execution_count": null,
   "metadata": {
    "collapsed": true
   },
   "outputs": [],
   "source": [
    "# generate data\n",
    "def clifford_torus(N):\n",
    "    x = np.linspace(0, 2*np.pi, num=N, endpoint=False).reshape(N,1)\n",
    "    y = np.sqrt(N)*x\n",
    "    return np.hstack((np.cos(x), np.sin(x), np.cos(y), np.sin(y)))\n",
    "\n",
    "coords = clifford_torus(100)"
   ]
  },
  {
   "cell_type": "code",
   "execution_count": null,
   "metadata": {},
   "outputs": [],
   "source": [
    "%%time\n",
    "# set parameters\n",
    "params = {'dimension': 1, \n",
    "          'multiplicative_interleaving': 2.5}\n",
    "# initiate intrinsic dowker homology objects\n",
    "dowker_intrinsic = dh.Dowker_Intrinsic(**params)\n",
    "dowker_intrinsic_sheehy_sheehy = dc.Dowker_Intrinsic_Sheehy_Sheehy(**params)\n",
    "dowker_intrinsic_sheehy_parent = dc.Dowker_Intrinsic_Sheehy_Parent(**params)\n",
    "# initiate ambient dowker homology objects\n",
    "dowker_ambient = dh.Dowker_Ambient(**params)\n",
    "dowker_ambient_sheehy_sheehy = dc.Dowker_Ambient_Sheehy_Sheehy(**params)\n",
    "dowker_ambient_sheehy_parent = dc.Dowker_Ambient_Sheehy_Parent(**params)"
   ]
  },
  {
   "cell_type": "code",
   "execution_count": null,
   "metadata": {},
   "outputs": [],
   "source": [
    "%%time\n",
    "# calculate persistent homology\n",
    "dowker_intrinsic.persistence(X=coords)\n",
    "dowker_intrinsic_sheehy_sheehy.persistence(X=coords)\n",
    "dowker_intrinsic_sheehy_parent.persistence(X=coords)\n",
    "dowker_ambient.persistence(X=coords)\n",
    "dowker_ambient_sheehy_sheehy.persistence(X=coords)\n",
    "dowker_ambient_sheehy_parent.persistence(X=coords)"
   ]
  },
  {
   "cell_type": "markdown",
   "metadata": {},
   "source": [
    "The method `cardinality_information` prints the cardinalities of the unreduced Čech nerve, of the Čech nerve of the farthest point sample and of the sparse nerve."
   ]
  },
  {
   "cell_type": "code",
   "execution_count": null,
   "metadata": {},
   "outputs": [],
   "source": [
    "# summarize sizes\n",
    "dh.dowker_functions.summarize_dowker(dowker_intrinsic,\n",
    "                                     dowker_intrinsic_sheehy_sheehy,\n",
    "                                     dowker_intrinsic_sheehy_parent,\n",
    "                                     dowker_ambient,\n",
    "                                     dowker_ambient_sheehy_sheehy,\n",
    "                                     dowker_ambient_sheehy_parent)"
   ]
  },
  {
   "cell_type": "markdown",
   "metadata": {},
   "source": [
    "In this case the parent restriction is slightly smaller than the Sheehy restriction. Note that for the intrinsic case the two restrictions result in homotopy equivalent nerves. In the ambient case they may differ slightly because in the parent restriction the original filtration values are used. The truncation and restriction methods presented in Sparse Filtered Nerves are considerably smaller, but result in different persistent homology with the same interleaving guarantees. "
   ]
  },
  {
   "cell_type": "code",
   "execution_count": null,
   "metadata": {},
   "outputs": [],
   "source": [
    "print(np.allclose(dowker_intrinsic_sheehy_sheehy.homology, \n",
    "                  dowker_intrinsic_sheehy_parent.homology))"
   ]
  },
  {
   "cell_type": "markdown",
   "metadata": {},
   "source": [
    "Let us just have a look at the resulting persistence diagrams"
   ]
  },
  {
   "cell_type": "code",
   "execution_count": null,
   "metadata": {},
   "outputs": [],
   "source": [
    "%%time\n",
    "# plot persistent homology\n",
    "dowker_intrinsic.plot_persistence(title = 'intrinsic')\n",
    "dowker_intrinsic_sheehy_sheehy.plot_persistence(title = 'intrinsic sheehy sheehy')\n",
    "dowker_intrinsic_sheehy_parent.plot_persistence(title = 'intrinsic sheehy parent')\n",
    "dowker_ambient.plot_persistence(title = 'ambient')\n",
    "dowker_ambient_sheehy_sheehy.plot_persistence(title = 'ambient sheehy sheehy')\n",
    "dowker_ambient_sheehy_parent.plot_persistence(title = 'ambient sheehy parent')"
   ]
  },
  {
   "cell_type": "markdown",
   "metadata": {},
   "source": [
    "## Klein bottle\n",
    "Next we calculate Čech persistent homology of a point cloud in ℝ<sup>3</sup> from the [persistent homology roadmap](https://github.com/n-otter/PH-roadmap) by Nina Otter et al. "
   ]
  },
  {
   "cell_type": "code",
   "execution_count": null,
   "metadata": {
    "collapsed": true
   },
   "outputs": [],
   "source": [
    "# Download data and transform to numpy array\n",
    "url = ('https://raw.githubusercontent.com/' +\n",
    "       'n-otter/PH-roadmap/master/data_sets/' +\n",
    "       'roadmap_datasets_point_cloud/' +\n",
    "       'klein_bottle_pointcloud_new_400.txt')\n",
    "\n",
    "response = urllib.request.urlopen(url)\n",
    "data = response.read()      # a `bytes` object\n",
    "text = data.decode('utf-8')\n",
    "coords = np.genfromtxt(BytesIO(data), delimiter=\" \")"
   ]
  },
  {
   "cell_type": "code",
   "execution_count": null,
   "metadata": {},
   "outputs": [],
   "source": [
    "%%time\n",
    "# set parameters\n",
    "params = {'dimension': 1,\n",
    "          'multiplicative_interleaving': 1.5, \n",
    "          'n_samples': 100}\n",
    "# initiate intrinsic dowker homology objects\n",
    "dowker_intrinsic = dh.Dowker_Intrinsic(**params)\n",
    "dowker_intrinsic_sheehy_sheehy = dc.Dowker_Intrinsic_Sheehy_Sheehy(**params)\n",
    "dowker_intrinsic_sheehy_parent = dc.Dowker_Intrinsic_Sheehy_Parent(**params)\n",
    "# initiate ambient dowker homology objects\n",
    "dowker_ambient = dh.Dowker_Ambient(**params)\n",
    "dowker_ambient_sheehy_sheehy = dc.Dowker_Ambient_Sheehy_Sheehy(**params)\n",
    "dowker_ambient_sheehy_parent = dc.Dowker_Ambient_Sheehy_Parent(**params)\n",
    "# calculate persistent homology\n",
    "dowker_intrinsic.persistence(X=coords)\n",
    "dowker_intrinsic_sheehy_sheehy.persistence(X=coords)\n",
    "dowker_intrinsic_sheehy_parent.persistence(X=coords)\n",
    "dowker_ambient.persistence(X=coords)\n",
    "dowker_ambient_sheehy_sheehy.persistence(X=coords)\n",
    "dowker_ambient_sheehy_parent.persistence(X=coords)"
   ]
  },
  {
   "cell_type": "markdown",
   "metadata": {},
   "source": [
    "The method `cardinality_information` prints the cardinalities of the unreduced Čech nerve, of the Čech nerve of the farthest point sample and of the sparse nerve."
   ]
  },
  {
   "cell_type": "code",
   "execution_count": null,
   "metadata": {
    "scrolled": true
   },
   "outputs": [],
   "source": [
    "# summarize sizes\n",
    "dh.dowker_functions.summarize_dowker(dowker_intrinsic,\n",
    "                                     dowker_intrinsic_sheehy_sheehy,\n",
    "                                     dowker_intrinsic_sheehy_parent,\n",
    "                                     dowker_ambient,\n",
    "                                     dowker_ambient_sheehy_sheehy,\n",
    "                                     dowker_ambient_sheehy_parent)"
   ]
  },
  {
   "cell_type": "markdown",
   "metadata": {},
   "source": [
    "In this case the parent restriction was larger than the Sheehy restriction for the intrinsic case and smaller for the ambient case."
   ]
  },
  {
   "cell_type": "code",
   "execution_count": null,
   "metadata": {},
   "outputs": [],
   "source": [
    "print(np.allclose(dowker_intrinsic_sheehy_sheehy.homology, \n",
    "                  dowker_intrinsic_sheehy_parent.homology))"
   ]
  },
  {
   "cell_type": "markdown",
   "metadata": {},
   "source": [
    "Let us just have a look at the resulting persistence diagrams"
   ]
  },
  {
   "cell_type": "code",
   "execution_count": null,
   "metadata": {},
   "outputs": [],
   "source": [
    "%%time\n",
    "# plot persistent homology\n",
    "dowker_intrinsic.plot_persistence(title = 'intrinsic')\n",
    "dowker_intrinsic_sheehy_sheehy.plot_persistence(title = 'intrinsic sheehy sheehy')\n",
    "dowker_intrinsic_sheehy_parent.plot_persistence(title = 'intrinsic sheehy parent')\n",
    "dowker_ambient.plot_persistence(title = 'ambient')\n",
    "dowker_ambient_sheehy_sheehy.plot_persistence(title = 'ambient sheehy sheehy')\n",
    "dowker_ambient_sheehy_parent.plot_persistence(title = 'ambient sheehy parent')"
   ]
  },
  {
   "cell_type": "markdown",
   "metadata": {},
   "source": [
    "This notebook took less than one minute to run."
   ]
  },
  {
   "cell_type": "code",
   "execution_count": null,
   "metadata": {},
   "outputs": [],
   "source": [
    "total_time = time.time() - start\n",
    "total_time / 60"
   ]
  }
 ],
 "metadata": {
  "kernelspec": {
   "display_name": "Python 3",
   "language": "python",
   "name": "python3"
  },
  "language_info": {
   "codemirror_mode": {
    "name": "ipython",
    "version": 3
   },
   "file_extension": ".py",
   "mimetype": "text/x-python",
   "name": "python",
   "nbconvert_exporter": "python",
   "pygments_lexer": "ipython3",
   "version": "3.6.3"
  }
 },
 "nbformat": 4,
 "nbformat_minor": 2
}
