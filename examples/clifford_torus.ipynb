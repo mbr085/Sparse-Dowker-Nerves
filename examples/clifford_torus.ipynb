{
 "cells": [
  {
   "cell_type": "markdown",
   "metadata": {},
   "source": [
    "# Clifford torus\n",
    "We calculate Čech persistent homology of a point cloud in ℝ<sup>4</sup>. First we import the relevant python packages, set a random seed and generate the sample data used for the examples below. The data we use are 2000 points on the Clifford torus. "
   ]
  },
  {
   "cell_type": "code",
   "execution_count": null,
   "metadata": {
    "collapsed": true
   },
   "outputs": [],
   "source": [
    "import time\n",
    "start = time.time()"
   ]
  },
  {
   "cell_type": "code",
   "execution_count": null,
   "metadata": {
    "collapsed": true
   },
   "outputs": [],
   "source": [
    "%%time\n",
    "# import packages\n",
    "import numpy as np\n",
    "import pandas as pd\n",
    "from scipy.spatial.distance import cdist\n",
    "import urllib.request\n",
    "from io import BytesIO\n",
    "import dowker_homology as dh\n",
    "import dowker_comparison as dc\n",
    "np.random.seed(1)"
   ]
  },
  {
   "cell_type": "code",
   "execution_count": null,
   "metadata": {
    "collapsed": true
   },
   "outputs": [],
   "source": [
    "# generate data\n",
    "def clifford_torus(N):\n",
    "    x = np.linspace(0, 2*np.pi, num=N, endpoint=False).reshape(N,1)\n",
    "    y = np.sqrt(N)*x\n",
    "    return np.hstack((np.cos(x), np.sin(x), np.cos(y), np.sin(y)))\n",
    "\n",
    "coords = clifford_torus(2000)"
   ]
  },
  {
   "cell_type": "code",
   "execution_count": null,
   "metadata": {
    "collapsed": true
   },
   "outputs": [],
   "source": [
    "%%time\n",
    "# set parameters\n",
    "params = {'dimension': 2, \n",
    "          'multiplicative_interleaving': 3.0, \n",
    "          'max_simplex_size': 10000000}\n",
    "# initiate intrinsic dowker homology objects\n",
    "dowker_intrinsic = dh.Dowker_Intrinsic(**params)\n",
    "dowker_intrinsic_sheehy_sheehy = dc.Dowker_Intrinsic_Sheehy_Sheehy(**params)\n",
    "dowker_intrinsic_sheehy_parent = dc.Dowker_Intrinsic_Sheehy_Parent(**params)\n",
    "# initiate ambient dowker homology objects\n",
    "dowker_ambient = dh.Dowker_Ambient(**params)\n",
    "dowker_ambient_sheehy_sheehy = dc.Dowker_Ambient_Sheehy_Sheehy(**params)\n",
    "dowker_ambient_sheehy_parent = dc.Dowker_Ambient_Sheehy_Parent(**params)"
   ]
  },
  {
   "cell_type": "code",
   "execution_count": null,
   "metadata": {
    "collapsed": true
   },
   "outputs": [],
   "source": [
    "%%time\n",
    "# calculate persistent homology\n",
    "dowker_intrinsic.persistence(X=coords)"
   ]
  },
  {
   "cell_type": "code",
   "execution_count": null,
   "metadata": {
    "collapsed": true
   },
   "outputs": [],
   "source": [
    "%%time\n",
    "# calculate persistent homology\n",
    "dowker_intrinsic_sheehy_sheehy.persistence(X=coords)"
   ]
  },
  {
   "cell_type": "code",
   "execution_count": null,
   "metadata": {
    "collapsed": true
   },
   "outputs": [],
   "source": [
    "%%time\n",
    "# calculate persistent homology\n",
    "dowker_intrinsic_sheehy_parent.persistence(X=coords)"
   ]
  },
  {
   "cell_type": "code",
   "execution_count": null,
   "metadata": {
    "collapsed": true
   },
   "outputs": [],
   "source": [
    "%%time\n",
    "# calculate persistent homology\n",
    "dowker_ambient.persistence(X=coords)"
   ]
  },
  {
   "cell_type": "code",
   "execution_count": null,
   "metadata": {
    "collapsed": true
   },
   "outputs": [],
   "source": [
    "%%time\n",
    "# calculate persistent homology\n",
    "dowker_ambient_sheehy_sheehy.persistence(X=coords)"
   ]
  },
  {
   "cell_type": "code",
   "execution_count": null,
   "metadata": {
    "collapsed": true
   },
   "outputs": [],
   "source": [
    "%%time\n",
    "# calculate persistent homology\n",
    "dowker_ambient_sheehy_parent.persistence(X=coords)"
   ]
  },
  {
   "cell_type": "code",
   "execution_count": null,
   "metadata": {
    "collapsed": true
   },
   "outputs": [],
   "source": [
    "# summarize sizes\n",
    "dh.dowker_functions.summarize_dowker(dowker_intrinsic,\n",
    "                                     dowker_intrinsic_sheehy_sheehy,\n",
    "                                     dowker_intrinsic_sheehy_parent,\n",
    "                                     dowker_ambient,\n",
    "                                     dowker_ambient_sheehy_sheehy,\n",
    "                                     dowker_ambient_sheehy_parent)"
   ]
  },
  {
   "cell_type": "code",
   "execution_count": null,
   "metadata": {
    "collapsed": true
   },
   "outputs": [],
   "source": [
    "print(np.allclose(dowker_intrinsic_sheehy_sheehy.homology, \n",
    "                  dowker_intrinsic_sheehy_parent.homology))"
   ]
  },
  {
   "cell_type": "code",
   "execution_count": null,
   "metadata": {
    "collapsed": true
   },
   "outputs": [],
   "source": [
    "%%time\n",
    "# plot persistent homology\n",
    "dowker_intrinsic.plot_persistence(title = 'intrinsic')\n",
    "dowker_intrinsic_sheehy_sheehy.plot_persistence(title = 'intrinsic sheehy sheehy')\n",
    "dowker_intrinsic_sheehy_parent.plot_persistence(title = 'intrinsic sheehy parent')\n",
    "dowker_ambient.plot_persistence(title = 'ambient')\n",
    "dowker_ambient_sheehy_sheehy.plot_persistence(title = 'ambient sheehy sheehy')\n",
    "dowker_ambient_sheehy_parent.plot_persistence(title = 'ambient sheehy parent')"
   ]
  }
 ],
 "metadata": {
  "kernelspec": {
   "display_name": "Python 3",
   "language": "python",
   "name": "python3"
  },
  "language_info": {
   "codemirror_mode": {
    "name": "ipython",
    "version": 3
   },
   "file_extension": ".py",
   "mimetype": "text/x-python",
   "name": "python",
   "nbconvert_exporter": "python",
   "pygments_lexer": "ipython3",
   "version": "3.6.3"
  }
 },
 "nbformat": 4,
 "nbformat_minor": 2
}
