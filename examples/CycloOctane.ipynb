{
 "cells": [
  {
   "cell_type": "markdown",
   "metadata": {},
   "source": [
    "# CycloOctane\n",
    "We calculate Čech persistent homology of a point cloud of 6040 points from a double torus in ℝ<sup>24</sup>. \n",
    "The data was downloaded from the [javaplex software](https://github.com/appliedtopology/javaplex/raw/a2e7ddaea384a5c93340c845cf34b73fbc05e526/src/matlab/for_distribution/tutorial_examples/pointsCycloOctane.mat). "
   ]
  },
  {
   "cell_type": "code",
   "execution_count": null,
   "metadata": {
    "collapsed": true
   },
   "outputs": [],
   "source": [
    "import time\n",
    "start = time.time()"
   ]
  },
  {
   "cell_type": "code",
   "execution_count": null,
   "metadata": {
    "collapsed": true
   },
   "outputs": [],
   "source": [
    "%%time\n",
    "# import packages\n",
    "import numpy as np\n",
    "import pandas as pd\n",
    "from scipy.io import loadmat\n",
    "import dowker_homology as dh\n",
    "import dowker_comparison as dc\n",
    "np.random.seed(1)"
   ]
  },
  {
   "cell_type": "code",
   "execution_count": null,
   "metadata": {
    "collapsed": true
   },
   "outputs": [],
   "source": [
    "# read data\n",
    "mat = loadmat(\"data/pointsCycloOctane.mat\")\n",
    "coords = mat[\"pointsCycloOctane\"]"
   ]
  },
  {
   "cell_type": "code",
   "execution_count": null,
   "metadata": {
    "collapsed": true
   },
   "outputs": [],
   "source": [
    "%%time\n",
    "# set parameters\n",
    "params = {'dimension': 2, \n",
    "          'multiplicative_interleaving': 6.0, \n",
    "          'n_samples': 2000,\n",
    "          'max_simplex_size': 10000000}\n",
    "# initiate intrinsic dowker homology objects\n",
    "dowker_intrinsic = dh.Dowker_Intrinsic(**params)\n",
    "dowker_intrinsic_sheehy_sheehy = dc.Dowker_Intrinsic_Sheehy_Sheehy(**params)\n",
    "dowker_intrinsic_sheehy_parent = dc.Dowker_Intrinsic_Sheehy_Parent(**params)\n",
    "# initiate ambient dowker homology objects\n",
    "dowker_ambient = dh.Dowker_Ambient(**params)\n",
    "dowker_ambient_sheehy_sheehy = dc.Dowker_Ambient_Sheehy_Sheehy(**params)\n",
    "dowker_ambient_sheehy_parent = dc.Dowker_Ambient_Sheehy_Parent(**params)"
   ]
  },
  {
   "cell_type": "code",
   "execution_count": null,
   "metadata": {
    "collapsed": true
   },
   "outputs": [],
   "source": [
    "%%time\n",
    "# calculate persistent homology\n",
    "dowker_intrinsic.persistence(X=coords)"
   ]
  },
  {
   "cell_type": "code",
   "execution_count": null,
   "metadata": {
    "collapsed": true
   },
   "outputs": [],
   "source": [
    "%%time\n",
    "# calculate persistent homology\n",
    "dowker_intrinsic_sheehy_sheehy.persistence(X=coords)"
   ]
  },
  {
   "cell_type": "code",
   "execution_count": null,
   "metadata": {
    "collapsed": true
   },
   "outputs": [],
   "source": [
    "%%time\n",
    "# calculate persistent homology\n",
    "dowker_intrinsic_sheehy_parent.persistence(X=coords)"
   ]
  },
  {
   "cell_type": "code",
   "execution_count": null,
   "metadata": {
    "collapsed": true
   },
   "outputs": [],
   "source": [
    "%%time\n",
    "# calculate persistent homology\n",
    "dowker_ambient.persistence(X=coords)"
   ]
  },
  {
   "cell_type": "code",
   "execution_count": null,
   "metadata": {
    "collapsed": true
   },
   "outputs": [],
   "source": [
    "%%time\n",
    "# calculate persistent homology\n",
    "dowker_ambient_sheehy_sheehy.persistence(X=coords)"
   ]
  },
  {
   "cell_type": "code",
   "execution_count": null,
   "metadata": {
    "collapsed": true
   },
   "outputs": [],
   "source": [
    "%%time\n",
    "# calculate persistent homology\n",
    "dowker_ambient_sheehy_parent.persistence(X=coords)"
   ]
  },
  {
   "cell_type": "code",
   "execution_count": null,
   "metadata": {
    "collapsed": true
   },
   "outputs": [],
   "source": [
    "# summarize sizes\n",
    "dh.dowker_functions.summarize_dowker(dowker_intrinsic,\n",
    "                                     dowker_intrinsic_sheehy_sheehy,\n",
    "                                     dowker_intrinsic_sheehy_parent,\n",
    "                                     dowker_ambient,\n",
    "                                     dowker_ambient_sheehy_sheehy,\n",
    "                                     dowker_ambient_sheehy_parent)"
   ]
  },
  {
   "cell_type": "code",
   "execution_count": null,
   "metadata": {
    "collapsed": true
   },
   "outputs": [],
   "source": [
    "print(np.allclose(dowker_intrinsic_sheehy_sheehy.homology, \n",
    "                  dowker_intrinsic_sheehy_parent.homology))"
   ]
  },
  {
   "cell_type": "code",
   "execution_count": null,
   "metadata": {
    "collapsed": true
   },
   "outputs": [],
   "source": [
    "%%time\n",
    "# plot persistent homology\n",
    "dowker_intrinsic.plot_persistence(title = 'intrinsic')\n",
    "dowker_intrinsic_sheehy_sheehy.plot_persistence(title = 'intrinsic sheehy sheehy')\n",
    "dowker_intrinsic_sheehy_parent.plot_persistence(title = 'intrinsic sheehy parent')\n",
    "dowker_ambient.plot_persistence(title = 'ambient')\n",
    "dowker_ambient_sheehy_sheehy.plot_persistence(title = 'ambient sheehy sheehy')\n",
    "dowker_ambient_sheehy_parent.plot_persistence(title = 'ambient sheehy parent')"
   ]
  }
 ],
 "metadata": {
  "kernelspec": {
   "display_name": "Python 3",
   "language": "python",
   "name": "python3"
  },
  "language_info": {
   "codemirror_mode": {
    "name": "ipython",
    "version": 3
   },
   "file_extension": ".py",
   "mimetype": "text/x-python",
   "name": "python",
   "nbconvert_exporter": "python",
   "pygments_lexer": "ipython3",
   "version": "3.6.3"
  }
 },
 "nbformat": 4,
 "nbformat_minor": 2
}
