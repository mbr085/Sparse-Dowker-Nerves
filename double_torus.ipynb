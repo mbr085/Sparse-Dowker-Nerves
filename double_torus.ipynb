{
 "cells": [
  {
   "cell_type": "code",
   "execution_count": null,
   "metadata": {
    "collapsed": true
   },
   "outputs": [],
   "source": [
    "import numpy as np\n",
    "import pandas as pd\n",
    "from dowker_homology import dowker_persistent_homology, plot_persistence\n",
    "%matplotlib notebook"
   ]
  },
  {
   "cell_type": "code",
   "execution_count": null,
   "metadata": {
    "collapsed": true
   },
   "outputs": [],
   "source": [
    "# import data\n",
    "df = pd.read_csv(\"data/dt.txt\", skiprows = 1, names=[\"x\", \"y\", \"z\"], sep = \" \")\n",
    "coords = df.values"
   ]
  },
  {
   "cell_type": "code",
   "execution_count": null,
   "metadata": {
    "collapsed": true
   },
   "outputs": [],
   "source": [
    "# choose parameters\n",
    "n = len(df)\n",
    "interleaving = 3\n",
    "dimension = 2"
   ]
  },
  {
   "cell_type": "code",
   "execution_count": null,
   "metadata": {
    "collapsed": true
   },
   "outputs": [],
   "source": [
    "%%time \n",
    "homology_dowker, cover_radius_dowker, max_filtration_value_dowker = dowker_persistent_homology(\n",
    "    coords, \n",
    "    n_samples=n, \n",
    "    interleaving=interleaving,\n",
    "    dimension=dimension, \n",
    "    method=\"dowker\",\n",
    "    verbose=True)"
   ]
  },
  {
   "cell_type": "code",
   "execution_count": null,
   "metadata": {
    "collapsed": true
   },
   "outputs": [],
   "source": [
    "%%time \n",
    "homology_sheehy, cover_radius_sheehy, max_filtration_value_sheehy = dowker_persistent_homology(\n",
    "    coords, \n",
    "    n_samples=n, \n",
    "    interleaving=interleaving,\n",
    "    dimension=dimension, \n",
    "    method=\"sheehy\",\n",
    "    verbose=True)"
   ]
  },
  {
   "cell_type": "code",
   "execution_count": null,
   "metadata": {
    "collapsed": true,
    "scrolled": false
   },
   "outputs": [],
   "source": [
    "plot_dowker = plot_persistence(homology_dowker,\n",
    "                               ticks=None, \n",
    "                               interleaving=interleaving,\n",
    "                               cover_radius=cover_radius_dowker,\n",
    "                               max_filtration_value=max_filtration_value_dowker,\n",
    "                               s=10)"
   ]
  },
  {
   "cell_type": "code",
   "execution_count": null,
   "metadata": {
    "collapsed": true
   },
   "outputs": [],
   "source": [
    "plot_sheehy = plot_persistence(homology_sheehy,\n",
    "                               ticks=None, \n",
    "                               interleaving=interleaving,\n",
    "                               cover_radius=cover_radius_sheehy,\n",
    "                               max_filtration_value=max_filtration_value_sheehy,\n",
    "                               s=10)"
   ]
  }
 ],
 "metadata": {
  "kernelspec": {
   "display_name": "Python [default]",
   "language": "python",
   "name": "python3"
  },
  "language_info": {
   "codemirror_mode": {
    "name": "ipython",
    "version": 3
   },
   "file_extension": ".py",
   "mimetype": "text/x-python",
   "name": "python",
   "nbconvert_exporter": "python",
   "pygments_lexer": "ipython3",
   "version": "3.6.3"
  }
 },
 "nbformat": 4,
 "nbformat_minor": 2
}
